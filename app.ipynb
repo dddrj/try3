{
 "cells": [
  {
   "cell_type": "code",
   "execution_count": null,
   "id": "2a97df7a",
   "metadata": {},
   "outputs": [
    {
     "name": "stdout",
     "output_type": "stream",
     "text": [
      " * Serving Flask app '__main__'\n",
      " * Debug mode: off\n"
     ]
    },
    {
     "name": "stderr",
     "output_type": "stream",
     "text": [
      "WARNING: This is a development server. Do not use it in a production deployment. Use a production WSGI server instead.\n",
      " * Running on http://127.0.0.1:5000\n",
      "Press CTRL+C to quit\n"
     ]
    }
   ],
   "source": [
    "from flask import Flask, render_template, request\n",
    "\n",
    "app = Flask(__name__)\n",
    "\n",
    "# 定义节点类\n",
    "class Node:\n",
    "    def __init__(self, username: str, password: str):\n",
    "        self.username = username  \n",
    "        self.password = password  \n",
    "        self.next = None  \n",
    "\n",
    "# 定义队列类\n",
    "class Queue:\n",
    "    def __init__(self):\n",
    "        self.head = None \n",
    "\n",
    "    def enqueue(self, username: str, password: str):\n",
    "        new_node = Node(username, password)\n",
    "        if not self.head:\n",
    "            self.head = new_node\n",
    "        else:\n",
    "            current = self.head\n",
    "            while current.next:\n",
    "                current = current.next\n",
    "            current.next = new_node\n",
    "\n",
    "\n",
    "@app.route(\"/\", methods=[\"GET\", \"POST\"])\n",
    "def index():\n",
    "    return render_template(\"index.html\")\n",
    "\n",
    "@app.route(\"/main\", methods=[\"GET\", \"POST\"])\n",
    "def main():\n",
    "    queue = Queue()\n",
    "    queue.enqueue(\"TaoSiyu\", \"Systemcall0122\")\n",
    "    queue.enqueue(\"T1\", \"Systemcall01\")\n",
    "    queue.enqueue(\"T2\", \"Systemcall0\")\n",
    "    queue.enqueue(\"T3\", \"Systemcall\")\n",
    "\n",
    "    r = request.form.get(\"q\")\n",
    "    v = request.form.get(\"t\")\n",
    "\n",
    "    if not r or not v:\n",
    "        return render_template(\"index.html\")\n",
    "        \n",
    "    current = queue.head\n",
    "    found = False\n",
    "    while current:\n",
    "        if current.username == r and current.password == v:\n",
    "            found = True\n",
    "            break\n",
    "        current = current.next\n",
    "\n",
    "    if found:\n",
    "        return render_template(\"main.html\", r=r)\n",
    "    else:\n",
    "        return render_template(\"index.html\")\n",
    "\n",
    "@app.route(\"/genAI\",methods=[\"GET\",\"POST\"])\n",
    "def genAI():\n",
    "    q = request.form.get(\"q\")\n",
    "    r = palm.chat(**model, messages=q)\n",
    "    return render_template(\"genAI.html\", r=r.last)\n",
    "\n",
    "@app.route(\"/DApp\",methods=[\"GET\",\"POST\"])\n",
    "def DApp():\n",
    "    return render_template(\"DApp.html\")\n",
    "    \n",
    "if __name__ == \"__main__\":\n",
    "    app.run()\n"
   ]
  },
  {
   "cell_type": "code",
   "execution_count": null,
   "id": "e186ca7f-fe6b-4396-bb6d-eb0722b866c2",
   "metadata": {},
   "outputs": [],
   "source": []
  }
 ],
 "metadata": {
  "kernelspec": {
   "display_name": "Python 3 (ipykernel)",
   "language": "python",
   "name": "python3"
  },
  "language_info": {
   "codemirror_mode": {
    "name": "ipython",
    "version": 3
   },
   "file_extension": ".py",
   "mimetype": "text/x-python",
   "name": "python",
   "nbconvert_exporter": "python",
   "pygments_lexer": "ipython3",
   "version": "3.12.4"
  }
 },
 "nbformat": 4,
 "nbformat_minor": 5
}
